{
  "nbformat": 4,
  "nbformat_minor": 0,
  "metadata": {
    "colab": {
      "name": "advanced_saving_loading.ipynb",
      "provenance": [],
      "collapsed_sections": [],
      "toc_visible": true,
      "include_colab_link": true
    },
    "kernelspec": {
      "name": "python3",
      "display_name": "Python 3"
    },
    "accelerator": "GPU"
  },
  "cells": [
    {
      "cell_type": "markdown",
      "metadata": {
        "id": "view-in-github",
        "colab_type": "text"
      },
      "source": [
        "<a href=\"https://colab.research.google.com/github/olonok69/Reinforcement-Learning/blob/master/advanced_saving_loading.ipynb\" target=\"_parent\"><img src=\"https://colab.research.google.com/assets/colab-badge.svg\" alt=\"Open In Colab\"/></a>"
      ]
    },
    {
      "cell_type": "markdown",
      "metadata": {
        "id": "hyyN-2qyK_T2"
      },
      "source": [
        "# Stable Baselines3 - Advanced Saving and Loading\n",
        "\n",
        "Github Repo: [https://github.com/DLR-RM/stable-baselines3](https://github.com/DLR-RM/stable-baselines3)\n",
        "\n",
        "\n",
        "[RL Baselines3 Zoo](https://github.com/DLR-RM/rl-baselines3-zoo) is a collection of pre-trained Reinforcement Learning agents using Stable-Baselines3.\n",
        "\n",
        "It also provides basic scripts for training, evaluating agents, tuning hyperparameters and recording videos.\n",
        "\n",
        "Documentation is available online: [https://stable-baselines3.readthedocs.io/](https://stable-baselines3.readthedocs.io/)\n",
        "\n",
        "## Introduction\n",
        "\n",
        "In this notebook, you will learn how to use some advanced features of stable baselines3 (SB3): how to easily create a test environment for periodic evaluation, use a policy independently from a model (and how to save it, load it) and save/load a replay buffer.\n",
        "\n",
        "## Install Dependencies and Stable Baselines Using Pip\n",
        "\n",
        "\n",
        "```\n",
        "pip install stable-baselines3[extra]\n",
        "```"
      ]
    },
    {
      "cell_type": "code",
      "metadata": {
        "id": "gWskDE2c9WoN",
        "colab": {
          "base_uri": "https://localhost:8080/"
        },
        "outputId": "ad542820-a95e-4573-99fd-fc4084068c5d"
      },
      "source": [
        "!pip install stable-baselines3[extra]"
      ],
      "execution_count": 1,
      "outputs": [
        {
          "output_type": "stream",
          "text": [
            "Collecting stable-baselines3[extra]\n",
            "\u001b[?25l  Downloading https://files.pythonhosted.org/packages/76/7c/ec89fd9a51c2ff640f150479069be817136c02f02349b5dd27a6e3bb8b3d/stable_baselines3-0.10.0-py3-none-any.whl (145kB)\n",
            "\r\u001b[K     |██▎                             | 10kB 25.8MB/s eta 0:00:01\r\u001b[K     |████▌                           | 20kB 8.6MB/s eta 0:00:01\r\u001b[K     |██████▊                         | 30kB 5.9MB/s eta 0:00:01\r\u001b[K     |█████████                       | 40kB 5.6MB/s eta 0:00:01\r\u001b[K     |███████████▎                    | 51kB 3.2MB/s eta 0:00:01\r\u001b[K     |█████████████▌                  | 61kB 3.7MB/s eta 0:00:01\r\u001b[K     |███████████████▊                | 71kB 3.9MB/s eta 0:00:01\r\u001b[K     |██████████████████              | 81kB 4.1MB/s eta 0:00:01\r\u001b[K     |████████████████████▏           | 92kB 4.2MB/s eta 0:00:01\r\u001b[K     |██████████████████████▌         | 102kB 4.4MB/s eta 0:00:01\r\u001b[K     |████████████████████████▊       | 112kB 4.4MB/s eta 0:00:01\r\u001b[K     |███████████████████████████     | 122kB 4.4MB/s eta 0:00:01\r\u001b[K     |█████████████████████████████▏  | 133kB 4.4MB/s eta 0:00:01\r\u001b[K     |███████████████████████████████▍| 143kB 4.4MB/s eta 0:00:01\r\u001b[K     |████████████████████████████████| 153kB 4.4MB/s \n",
            "\u001b[?25hRequirement already satisfied: torch>=1.4.0 in /usr/local/lib/python3.6/dist-packages (from stable-baselines3[extra]) (1.7.0+cu101)\n",
            "Requirement already satisfied: gym>=0.17 in /usr/local/lib/python3.6/dist-packages (from stable-baselines3[extra]) (0.17.3)\n",
            "Requirement already satisfied: pandas in /usr/local/lib/python3.6/dist-packages (from stable-baselines3[extra]) (1.1.5)\n",
            "Requirement already satisfied: matplotlib in /usr/local/lib/python3.6/dist-packages (from stable-baselines3[extra]) (3.2.2)\n",
            "Requirement already satisfied: numpy in /usr/local/lib/python3.6/dist-packages (from stable-baselines3[extra]) (1.19.5)\n",
            "Requirement already satisfied: cloudpickle in /usr/local/lib/python3.6/dist-packages (from stable-baselines3[extra]) (1.3.0)\n",
            "Requirement already satisfied: atari-py~=0.2.0; extra == \"extra\" in /usr/local/lib/python3.6/dist-packages (from stable-baselines3[extra]) (0.2.6)\n",
            "Requirement already satisfied: pillow; extra == \"extra\" in /usr/local/lib/python3.6/dist-packages (from stable-baselines3[extra]) (7.0.0)\n",
            "Requirement already satisfied: psutil; extra == \"extra\" in /usr/local/lib/python3.6/dist-packages (from stable-baselines3[extra]) (5.4.8)\n",
            "Requirement already satisfied: opencv-python; extra == \"extra\" in /usr/local/lib/python3.6/dist-packages (from stable-baselines3[extra]) (4.1.2.30)\n",
            "Requirement already satisfied: tensorboard; extra == \"extra\" in /usr/local/lib/python3.6/dist-packages (from stable-baselines3[extra]) (2.4.0)\n",
            "Requirement already satisfied: future in /usr/local/lib/python3.6/dist-packages (from torch>=1.4.0->stable-baselines3[extra]) (0.16.0)\n",
            "Requirement already satisfied: typing-extensions in /usr/local/lib/python3.6/dist-packages (from torch>=1.4.0->stable-baselines3[extra]) (3.7.4.3)\n",
            "Requirement already satisfied: dataclasses in /usr/local/lib/python3.6/dist-packages (from torch>=1.4.0->stable-baselines3[extra]) (0.8)\n",
            "Requirement already satisfied: scipy in /usr/local/lib/python3.6/dist-packages (from gym>=0.17->stable-baselines3[extra]) (1.4.1)\n",
            "Requirement already satisfied: pyglet<=1.5.0,>=1.4.0 in /usr/local/lib/python3.6/dist-packages (from gym>=0.17->stable-baselines3[extra]) (1.5.0)\n",
            "Requirement already satisfied: pytz>=2017.2 in /usr/local/lib/python3.6/dist-packages (from pandas->stable-baselines3[extra]) (2018.9)\n",
            "Requirement already satisfied: python-dateutil>=2.7.3 in /usr/local/lib/python3.6/dist-packages (from pandas->stable-baselines3[extra]) (2.8.1)\n",
            "Requirement already satisfied: kiwisolver>=1.0.1 in /usr/local/lib/python3.6/dist-packages (from matplotlib->stable-baselines3[extra]) (1.3.1)\n",
            "Requirement already satisfied: pyparsing!=2.0.4,!=2.1.2,!=2.1.6,>=2.0.1 in /usr/local/lib/python3.6/dist-packages (from matplotlib->stable-baselines3[extra]) (2.4.7)\n",
            "Requirement already satisfied: cycler>=0.10 in /usr/local/lib/python3.6/dist-packages (from matplotlib->stable-baselines3[extra]) (0.10.0)\n",
            "Requirement already satisfied: six in /usr/local/lib/python3.6/dist-packages (from atari-py~=0.2.0; extra == \"extra\"->stable-baselines3[extra]) (1.15.0)\n",
            "Requirement already satisfied: markdown>=2.6.8 in /usr/local/lib/python3.6/dist-packages (from tensorboard; extra == \"extra\"->stable-baselines3[extra]) (3.3.3)\n",
            "Requirement already satisfied: wheel>=0.26; python_version >= \"3\" in /usr/local/lib/python3.6/dist-packages (from tensorboard; extra == \"extra\"->stable-baselines3[extra]) (0.36.2)\n",
            "Requirement already satisfied: tensorboard-plugin-wit>=1.6.0 in /usr/local/lib/python3.6/dist-packages (from tensorboard; extra == \"extra\"->stable-baselines3[extra]) (1.7.0)\n",
            "Requirement already satisfied: grpcio>=1.24.3 in /usr/local/lib/python3.6/dist-packages (from tensorboard; extra == \"extra\"->stable-baselines3[extra]) (1.32.0)\n",
            "Requirement already satisfied: setuptools>=41.0.0 in /usr/local/lib/python3.6/dist-packages (from tensorboard; extra == \"extra\"->stable-baselines3[extra]) (51.3.3)\n",
            "Requirement already satisfied: werkzeug>=0.11.15 in /usr/local/lib/python3.6/dist-packages (from tensorboard; extra == \"extra\"->stable-baselines3[extra]) (1.0.1)\n",
            "Requirement already satisfied: google-auth<2,>=1.6.3 in /usr/local/lib/python3.6/dist-packages (from tensorboard; extra == \"extra\"->stable-baselines3[extra]) (1.17.2)\n",
            "Requirement already satisfied: protobuf>=3.6.0 in /usr/local/lib/python3.6/dist-packages (from tensorboard; extra == \"extra\"->stable-baselines3[extra]) (3.12.4)\n",
            "Requirement already satisfied: absl-py>=0.4 in /usr/local/lib/python3.6/dist-packages (from tensorboard; extra == \"extra\"->stable-baselines3[extra]) (0.10.0)\n",
            "Requirement already satisfied: requests<3,>=2.21.0 in /usr/local/lib/python3.6/dist-packages (from tensorboard; extra == \"extra\"->stable-baselines3[extra]) (2.23.0)\n",
            "Requirement already satisfied: google-auth-oauthlib<0.5,>=0.4.1 in /usr/local/lib/python3.6/dist-packages (from tensorboard; extra == \"extra\"->stable-baselines3[extra]) (0.4.2)\n",
            "Requirement already satisfied: importlib-metadata; python_version < \"3.8\" in /usr/local/lib/python3.6/dist-packages (from markdown>=2.6.8->tensorboard; extra == \"extra\"->stable-baselines3[extra]) (3.3.0)\n",
            "Requirement already satisfied: rsa<5,>=3.1.4; python_version >= \"3\" in /usr/local/lib/python3.6/dist-packages (from google-auth<2,>=1.6.3->tensorboard; extra == \"extra\"->stable-baselines3[extra]) (4.6)\n",
            "Requirement already satisfied: pyasn1-modules>=0.2.1 in /usr/local/lib/python3.6/dist-packages (from google-auth<2,>=1.6.3->tensorboard; extra == \"extra\"->stable-baselines3[extra]) (0.2.8)\n",
            "Requirement already satisfied: cachetools<5.0,>=2.0.0 in /usr/local/lib/python3.6/dist-packages (from google-auth<2,>=1.6.3->tensorboard; extra == \"extra\"->stable-baselines3[extra]) (4.2.0)\n",
            "Requirement already satisfied: chardet<4,>=3.0.2 in /usr/local/lib/python3.6/dist-packages (from requests<3,>=2.21.0->tensorboard; extra == \"extra\"->stable-baselines3[extra]) (3.0.4)\n",
            "Requirement already satisfied: idna<3,>=2.5 in /usr/local/lib/python3.6/dist-packages (from requests<3,>=2.21.0->tensorboard; extra == \"extra\"->stable-baselines3[extra]) (2.10)\n",
            "Requirement already satisfied: urllib3!=1.25.0,!=1.25.1,<1.26,>=1.21.1 in /usr/local/lib/python3.6/dist-packages (from requests<3,>=2.21.0->tensorboard; extra == \"extra\"->stable-baselines3[extra]) (1.24.3)\n",
            "Requirement already satisfied: certifi>=2017.4.17 in /usr/local/lib/python3.6/dist-packages (from requests<3,>=2.21.0->tensorboard; extra == \"extra\"->stable-baselines3[extra]) (2020.12.5)\n",
            "Requirement already satisfied: requests-oauthlib>=0.7.0 in /usr/local/lib/python3.6/dist-packages (from google-auth-oauthlib<0.5,>=0.4.1->tensorboard; extra == \"extra\"->stable-baselines3[extra]) (1.3.0)\n",
            "Requirement already satisfied: zipp>=0.5 in /usr/local/lib/python3.6/dist-packages (from importlib-metadata; python_version < \"3.8\"->markdown>=2.6.8->tensorboard; extra == \"extra\"->stable-baselines3[extra]) (3.4.0)\n",
            "Requirement already satisfied: pyasn1>=0.1.3 in /usr/local/lib/python3.6/dist-packages (from rsa<5,>=3.1.4; python_version >= \"3\"->google-auth<2,>=1.6.3->tensorboard; extra == \"extra\"->stable-baselines3[extra]) (0.4.8)\n",
            "Requirement already satisfied: oauthlib>=3.0.0 in /usr/local/lib/python3.6/dist-packages (from requests-oauthlib>=0.7.0->google-auth-oauthlib<0.5,>=0.4.1->tensorboard; extra == \"extra\"->stable-baselines3[extra]) (3.1.0)\n",
            "Installing collected packages: stable-baselines3\n",
            "Successfully installed stable-baselines3-0.10.0\n"
          ],
          "name": "stdout"
        }
      ]
    },
    {
      "cell_type": "markdown",
      "metadata": {
        "id": "FtY8FhliLsGm"
      },
      "source": [
        "## Import policy, RL agent, ..."
      ]
    },
    {
      "cell_type": "code",
      "metadata": {
        "id": "BIedd7Pz9sOs"
      },
      "source": [
        "from stable_baselines3 import SAC, TD3\n",
        "from stable_baselines3.common.evaluation import evaluate_policy"
      ],
      "execution_count": 2,
      "outputs": []
    },
    {
      "cell_type": "markdown",
      "metadata": {
        "id": "RapkYvTXL7Cd"
      },
      "source": [
        "## Create the Gym env and instantiate the agent\n",
        "\n",
        "For this example, we will use Pendulum environment.\n",
        "\n",
        "\"The inverted pendulum swingup problem is a classic problem in the control literature. In this version of the problem, the pendulum starts in a random position, and the goal is to swing it up so it stays upright.\"\n",
        "\n",
        "Pendulum-v0 environment: [https://gym.openai.com/envs/Pendulum-v0/](https://gym.openai.com/envs/Pendulum-v0/)\n",
        "\n",
        "![Pendulum](https://gym.openai.com/videos/2019-10-21--mqt8Qj1mwo/Pendulum-v0/poster.jpg)\n",
        "\n",
        "\n",
        "We chose the MlpPolicy because input of Pendulum is a feature vector, not images.\n",
        "\n",
        "The type of action to use (discrete/continuous) will be automatically deduced from the environment action space\n",
        "\n"
      ]
    },
    {
      "cell_type": "markdown",
      "metadata": {
        "id": "eyt_yXx78FvB"
      },
      "source": [
        "### Create the environment and evaluation environment\n",
        "\n",
        "Stable-Baselines3 allows to automatically create an environment for evaluation.\n",
        "For that, you only need to specify `create_eval_env=True` when passing the Gym ID of the environment."
      ]
    },
    {
      "cell_type": "code",
      "metadata": {
        "id": "pUWGZp3i9wyf",
        "colab": {
          "base_uri": "https://localhost:8080/"
        },
        "outputId": "683ae101-3bdf-4b97-de6b-b8b457f0d8d3"
      },
      "source": [
        "model = SAC('MlpPolicy', 'Pendulum-v0', verbose=1, learning_rate=1e-3, create_eval_env=True)"
      ],
      "execution_count": 3,
      "outputs": [
        {
          "output_type": "stream",
          "text": [
            "Using cuda device\n",
            "Creating environment from the given name 'Pendulum-v0'\n",
            "Creating environment from the given name 'Pendulum-v0'\n",
            "Wrapping the env in a DummyVecEnv.\n"
          ],
          "name": "stdout"
        }
      ]
    },
    {
      "cell_type": "markdown",
      "metadata": {
        "id": "4efFdrQ7MBvl"
      },
      "source": [
        "Train the agent and evaluate it periodically on the test env.\n",
        "\n",
        "Behind the scene, SB3 uses an [EvalCallback](https://stable-baselines3.readthedocs.io/en/master/guide/callbacks.html#evalcallback)"
      ]
    },
    {
      "cell_type": "code",
      "metadata": {
        "id": "HfOdzGNo8QQg",
        "colab": {
          "base_uri": "https://localhost:8080/"
        },
        "outputId": "e9428986-dab9-456a-f442-219b000275b7"
      },
      "source": [
        "# Evaluate the model every 1000 steps on 5 test episodes and save the evaluation to the logs folder\n",
        "model.learn(6000, eval_freq=1000, n_eval_episodes=5, eval_log_path=\"./logs/\")"
      ],
      "execution_count": 4,
      "outputs": [
        {
          "output_type": "stream",
          "text": [
            "Wrapping the env in a DummyVecEnv.\n",
            "----------------------------------\n",
            "| rollout/           |           |\n",
            "|    ep_len_mean     | 200       |\n",
            "|    ep_rew_mean     | -1.33e+03 |\n",
            "| time/              |           |\n",
            "|    episodes        | 4         |\n",
            "|    fps             | 81        |\n",
            "|    time_elapsed    | 9         |\n",
            "|    total timesteps | 800       |\n",
            "| train/             |           |\n",
            "|    actor_loss      | 21        |\n",
            "|    critic_loss     | 0.12      |\n",
            "|    ent_coef        | 0.505     |\n",
            "|    ent_coef_loss   | -1.01     |\n",
            "|    learning_rate   | 0.001     |\n",
            "|    n_updates       | 699       |\n",
            "----------------------------------\n",
            "Eval num_timesteps=1000, episode_reward=-1733.51 +/- 93.83\n",
            "Episode length: 200.00 +/- 0.00\n",
            "New best mean reward!\n",
            "----------------------------------\n",
            "| eval/              |           |\n",
            "|    mean_ep_length  | 200       |\n",
            "|    mean_reward     | -1.73e+03 |\n",
            "| rollout/           |           |\n",
            "|    ep_len_mean     | 200       |\n",
            "|    ep_rew_mean     | -1.31e+03 |\n",
            "| time/              |           |\n",
            "|    episodes        | 8         |\n",
            "|    fps             | 75        |\n",
            "|    time_elapsed    | 21        |\n",
            "|    total timesteps | 1600      |\n",
            "| train/             |           |\n",
            "|    actor_loss      | 45.4      |\n",
            "|    critic_loss     | 0.621     |\n",
            "|    ent_coef        | 0.267     |\n",
            "|    ent_coef_loss   | -1.01     |\n",
            "|    learning_rate   | 0.001     |\n",
            "|    n_updates       | 1499      |\n",
            "----------------------------------\n",
            "Eval num_timesteps=2000, episode_reward=-1224.98 +/- 176.92\n",
            "Episode length: 200.00 +/- 0.00\n",
            "New best mean reward!\n",
            "----------------------------------\n",
            "| eval/              |           |\n",
            "|    mean_ep_length  | 200       |\n",
            "|    mean_reward     | -1.22e+03 |\n",
            "| rollout/           |           |\n",
            "|    ep_len_mean     | 200       |\n",
            "|    ep_rew_mean     | -1.28e+03 |\n",
            "| time/              |           |\n",
            "|    episodes        | 12        |\n",
            "|    fps             | 73        |\n",
            "|    time_elapsed    | 32        |\n",
            "|    total timesteps | 2400      |\n",
            "| train/             |           |\n",
            "|    actor_loss      | 64.1      |\n",
            "|    critic_loss     | 1.28      |\n",
            "|    ent_coef        | 0.195     |\n",
            "|    ent_coef_loss   | -0.359    |\n",
            "|    learning_rate   | 0.001     |\n",
            "|    n_updates       | 2299      |\n",
            "----------------------------------\n",
            "Eval num_timesteps=3000, episode_reward=-581.42 +/- 637.81\n",
            "Episode length: 200.00 +/- 0.00\n",
            "New best mean reward!\n",
            "----------------------------------\n",
            "| eval/              |           |\n",
            "|    mean_ep_length  | 200       |\n",
            "|    mean_reward     | -581      |\n",
            "| rollout/           |           |\n",
            "|    ep_len_mean     | 200       |\n",
            "|    ep_rew_mean     | -1.07e+03 |\n",
            "| time/              |           |\n",
            "|    episodes        | 16        |\n",
            "|    fps             | 72        |\n",
            "|    time_elapsed    | 43        |\n",
            "|    total timesteps | 3200      |\n",
            "| train/             |           |\n",
            "|    actor_loss      | 73.9      |\n",
            "|    critic_loss     | 13.5      |\n",
            "|    ent_coef        | 0.173     |\n",
            "|    ent_coef_loss   | -0.378    |\n",
            "|    learning_rate   | 0.001     |\n",
            "|    n_updates       | 3099      |\n",
            "----------------------------------\n",
            "Eval num_timesteps=4000, episode_reward=-1353.74 +/- 15.25\n",
            "Episode length: 200.00 +/- 0.00\n",
            "----------------------------------\n",
            "| eval/              |           |\n",
            "|    mean_ep_length  | 200       |\n",
            "|    mean_reward     | -1.35e+03 |\n",
            "| rollout/           |           |\n",
            "|    ep_len_mean     | 200       |\n",
            "|    ep_rew_mean     | -911      |\n",
            "| time/              |           |\n",
            "|    episodes        | 20        |\n",
            "|    fps             | 72        |\n",
            "|    time_elapsed    | 55        |\n",
            "|    total timesteps | 4000      |\n",
            "| train/             |           |\n",
            "|    actor_loss      | 71        |\n",
            "|    critic_loss     | 45.3      |\n",
            "|    ent_coef        | 0.161     |\n",
            "|    ent_coef_loss   | 0.156     |\n",
            "|    learning_rate   | 0.001     |\n",
            "|    n_updates       | 3899      |\n",
            "----------------------------------\n",
            "---------------------------------\n",
            "| rollout/           |          |\n",
            "|    ep_len_mean     | 200      |\n",
            "|    ep_rew_mean     | -890     |\n",
            "| time/              |          |\n",
            "|    episodes        | 24       |\n",
            "|    fps             | 73       |\n",
            "|    time_elapsed    | 65       |\n",
            "|    total timesteps | 4800     |\n",
            "| train/             |          |\n",
            "|    actor_loss      | 74.6     |\n",
            "|    critic_loss     | 86.7     |\n",
            "|    ent_coef        | 0.166    |\n",
            "|    ent_coef_loss   | -0.0341  |\n",
            "|    learning_rate   | 0.001    |\n",
            "|    n_updates       | 4699     |\n",
            "---------------------------------\n",
            "Eval num_timesteps=5000, episode_reward=-644.66 +/- 528.70\n",
            "Episode length: 200.00 +/- 0.00\n",
            "---------------------------------\n",
            "| eval/              |          |\n",
            "|    mean_ep_length  | 200      |\n",
            "|    mean_reward     | -645     |\n",
            "| rollout/           |          |\n",
            "|    ep_len_mean     | 200      |\n",
            "|    ep_rew_mean     | -881     |\n",
            "| time/              |          |\n",
            "|    episodes        | 28       |\n",
            "|    fps             | 72       |\n",
            "|    time_elapsed    | 76       |\n",
            "|    total timesteps | 5600     |\n",
            "| train/             |          |\n",
            "|    actor_loss      | 78       |\n",
            "|    critic_loss     | 5.15     |\n",
            "|    ent_coef        | 0.207    |\n",
            "|    ent_coef_loss   | -0.0411  |\n",
            "|    learning_rate   | 0.001    |\n",
            "|    n_updates       | 5499     |\n",
            "---------------------------------\n",
            "Eval num_timesteps=6000, episode_reward=-429.78 +/- 554.74\n",
            "Episode length: 200.00 +/- 0.00\n",
            "New best mean reward!\n"
          ],
          "name": "stdout"
        },
        {
          "output_type": "execute_result",
          "data": {
            "text/plain": [
              "<stable_baselines3.sac.sac.SAC at 0x7f7addcb4fd0>"
            ]
          },
          "metadata": {
            "tags": []
          },
          "execution_count": 4
        }
      ]
    },
    {
      "cell_type": "markdown",
      "metadata": {
        "id": "sw80kaed3Zba"
      },
      "source": [
        "## Save/Load the replay buffer\n",
        "\n",
        "By default, the replay buffer is not saved when calling `model.save()`, in order to save space on the disk (a replay buffer can be up to several GB when using images).\n",
        "However, SB3 provides a `save_replay_buffer()` and `load_replay_buffer()` method to save it separately."
      ]
    },
    {
      "cell_type": "code",
      "metadata": {
        "id": "T65Bo7-k3dWL",
        "colab": {
          "base_uri": "https://localhost:8080/"
        },
        "outputId": "8a10ff0a-b17c-45fe-fcc3-6b7596347cd0"
      },
      "source": [
        "# save the model\n",
        "model.save(\"sac_pendulum\")\n",
        "\n",
        "# the saved model does not contain the replay buffer\n",
        "loaded_model = SAC.load(\"sac_pendulum\")\n",
        "print(f\"The loaded_model has {loaded_model.replay_buffer.size()} transitions in its buffer\")"
      ],
      "execution_count": 5,
      "outputs": [
        {
          "output_type": "stream",
          "text": [
            "The loaded_model has 0 transitions in its buffer\n"
          ],
          "name": "stdout"
        }
      ]
    },
    {
      "cell_type": "code",
      "metadata": {
        "id": "xEpCyKQN4kvw",
        "colab": {
          "base_uri": "https://localhost:8080/"
        },
        "outputId": "3bbac56a-1eeb-426b-c0f5-da13c293c19c"
      },
      "source": [
        "# now save the replay buffer too\n",
        "model.save_replay_buffer(\"sac_replay_buffer\")\n",
        "\n",
        "# load it into the loaded_model\n",
        "loaded_model.load_replay_buffer(\"sac_replay_buffer\")\n",
        "\n",
        "# now the loaded replay is not empty anymore\n",
        "print(f\"The loaded_model has {loaded_model.replay_buffer.size()} transitions in its buffer\")"
      ],
      "execution_count": 6,
      "outputs": [
        {
          "output_type": "stream",
          "text": [
            "The loaded_model has 6000 transitions in its buffer\n"
          ],
          "name": "stdout"
        }
      ]
    },
    {
      "cell_type": "markdown",
      "metadata": {
        "id": "wELlF5un9edF"
      },
      "source": [
        "## Save the policy only\n",
        "\n",
        "In SB3, you save the policy independently from the model if needed.\n",
        "\n",
        "Note: if you don't save the complete model, you cannot continue training afterward"
      ]
    },
    {
      "cell_type": "code",
      "metadata": {
        "id": "PeaVBGuJwK97"
      },
      "source": [
        "policy = model.policy\n",
        "policy.save(\"sac_policy_pendulum.pkl\")"
      ],
      "execution_count": 12,
      "outputs": []
    },
    {
      "cell_type": "code",
      "metadata": {
        "id": "1PFEOuOI-S7t"
      },
      "source": [
        "env = model.get_env()"
      ],
      "execution_count": 13,
      "outputs": []
    },
    {
      "cell_type": "code",
      "metadata": {
        "id": "KTEhTvLD9rQy",
        "colab": {
          "base_uri": "https://localhost:8080/"
        },
        "outputId": "ce7685ff-20f7-42a0-996f-6bf21e9a70f1"
      },
      "source": [
        "# Evaluate the policy\n",
        "mean_reward, std_reward = evaluate_policy(policy, env, n_eval_episodes=10, deterministic=True)\n",
        "\n",
        "print(f\"mean_reward={mean_reward:.2f} +/- {std_reward}\")"
      ],
      "execution_count": 14,
      "outputs": [
        {
          "output_type": "stream",
          "text": [
            "mean_reward=-1291.03 +/- 555.0111083984375\n"
          ],
          "name": "stdout"
        }
      ]
    },
    {
      "cell_type": "markdown",
      "metadata": {
        "id": "714wHSKT9iEg"
      },
      "source": [
        "## Load the policy only"
      ]
    },
    {
      "cell_type": "code",
      "metadata": {
        "id": "oplcPwc-95a1"
      },
      "source": [
        "from stable_baselines3.sac.policies import MlpPolicy"
      ],
      "execution_count": 15,
      "outputs": []
    },
    {
      "cell_type": "code",
      "metadata": {
        "id": "mogPtE0D90hw"
      },
      "source": [
        "saved_policy = MlpPolicy.load(\"/content/sac_policy_pendulum.pkl\")"
      ],
      "execution_count": 17,
      "outputs": []
    },
    {
      "cell_type": "code",
      "metadata": {
        "id": "ygl_gVmV_QP7",
        "colab": {
          "base_uri": "https://localhost:8080/"
        },
        "outputId": "9fe0c1be-d9c7-40e7-e690-2943b9cc9fe8"
      },
      "source": [
        "# Evaluate the loaded policy\n",
        "mean_reward, std_reward = evaluate_policy(saved_policy, env, n_eval_episodes=10, deterministic=True)\n",
        "\n",
        "print(f\"mean_reward={mean_reward:.2f} +/- {std_reward}\")"
      ],
      "execution_count": 18,
      "outputs": [
        {
          "output_type": "stream",
          "text": [
            "mean_reward=-457.92 +/- 554.127197265625\n"
          ],
          "name": "stdout"
        }
      ]
    },
    {
      "cell_type": "code",
      "metadata": {
        "id": "aQDZI5VEGnUq"
      },
      "source": [
        ""
      ],
      "execution_count": null,
      "outputs": []
    }
  ]
}